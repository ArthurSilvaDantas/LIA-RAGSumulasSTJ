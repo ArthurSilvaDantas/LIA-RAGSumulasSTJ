{
 "cells": [
  {
   "cell_type": "markdown",
   "id": "568c981e",
   "metadata": {},
   "source": [
    "# Pipeline de Súmulas do STJ\n",
    "\n",
    "Notebook para extrair súmulas do site do STJ, pré-processar os verbetes, gerar embeddings com SentenceTransformers e indexá-los com FAISS para busca semântica.\n",
    "\n",
    "Este notebook contém passos para coleta (web scraping), preparação de dados, geração de embeddings, construção do índice e exemplos de consulta."
   ]
  },
  {
   "cell_type": "markdown",
   "id": "404d1053",
   "metadata": {},
   "source": [
    "## Coleta (web scraping)\n",
    "\n",
    "Este bloco utiliza Selenium para navegar no site do STJ e coletar número e verbete de cada súmula. Os resultados são salvos em `sumulas_metadata.json`."
   ]
  },
  {
   "cell_type": "code",
   "execution_count": 1,
   "id": "aede2174",
   "metadata": {},
   "outputs": [
    {
     "name": "stderr",
     "output_type": "stream",
     "text": [
      "/home/arthur-silva-dantas/myenv/lib/python3.12/site-packages/tqdm/auto.py:21: TqdmWarning: IProgress not found. Please update jupyter and ipywidgets. See https://ipywidgets.readthedocs.io/en/stable/user_install.html\n",
      "  from .autonotebook import tqdm as notebook_tqdm\n"
     ]
    }
   ],
   "source": [
    "import json\n",
    "import re\n",
    "import numpy as np\n",
    "import faiss\n",
    "from sentence_transformers import SentenceTransformer\n",
    "from selenium import webdriver\n",
    "from selenium.webdriver.chrome.service import Service\n",
    "from selenium.webdriver.chrome.options import Options\n",
    "from selenium.webdriver.common.by import By\n",
    "from selenium.webdriver.support.ui import WebDriverWait\n",
    "from selenium.webdriver.support import expected_conditions as EC\n",
    "\n",
    "model = SentenceTransformer('sentence-transformers/paraphrase-multilingual-MiniLM-L12-v2')"
   ]
  },
  {
   "cell_type": "code",
   "execution_count": 2,
   "id": "c1f0a8c7",
   "metadata": {},
   "outputs": [],
   "source": [
    "options = Options()\n",
    "options.add_argument('--headless')\n",
    "options.add_argument('--no-sandbox')\n",
    "options.add_argument('--disable-dev-shm-usage')\n",
    "service = Service(\"/usr/local/bin/chromedriver\")\n",
    "driver = webdriver.Chrome(service=service, options=options)"
   ]
  },
  {
   "cell_type": "code",
   "execution_count": 3,
   "id": "c629e155",
   "metadata": {},
   "outputs": [],
   "source": [
    "driver.get(\"https://scon.stj.jus.br/SCON/sumstj/toc.jsp?documentosSelecionadosParaPDF=&numDocsPagina=100&tipo_visualizacao=&data=&p=true&b=SUMU&thesaurus=JURIDICO&i=1&l=100&ordenacao=-%40NUM&operador=e\")\n",
    "\n",
    "sumulas = []\n",
    "while True:\n",
    "    for grid in driver.find_elements(By.CLASS_NAME, \"gridSumula\"):\n",
    "        try:\n",
    "            num = grid.find_element(By.CLASS_NAME, \"numeroSumula\").text\n",
    "            verbete = grid.find_element(By.CLASS_NAME, \"blocoVerbete\").text\n",
    "            sumulas.append({\"numero\": num, \"verbete\": verbete})\n",
    "        except Exception:\n",
    "            continue\n",
    "    try:\n",
    "        botao_proxima = driver.find_element(By.CLASS_NAME, \"iconeProximaPagina\")\n",
    "        botao_proxima.click()\n",
    "        WebDriverWait(driver, 10).until(EC.staleness_of(grid))\n",
    "    except Exception:\n",
    "        break\n",
    "\n",
    "with open(\"sumulas_metadata.json\", \"w\", encoding=\"utf-8\") as f:\n",
    "    json.dump(sumulas, f, ensure_ascii=False, indent=2)\n"
   ]
  },
  {
   "cell_type": "markdown",
   "id": "c38f80bb",
   "metadata": {},
   "source": [
    "## Geração de embeddings e indexação\n",
    "\n",
    "Aqui carregamos os verbetes extraídos, geramos embeddings usando `sentence-transformers` e criamos um índice FAISS (IndexFlatIP). Os vetores são normalizados com L2 antes de gravar o índice."
   ]
  },
  {
   "cell_type": "code",
   "execution_count": 4,
   "id": "9382fe30",
   "metadata": {},
   "outputs": [],
   "source": [
    "with open(\"sumulas_metadata.json\", \"r\", encoding=\"utf-8\") as f:\n",
    "    sumulas = json.load(f)\n",
    "\n",
    "verbetes = [s[\"verbete\"] for s in sumulas]\n",
    "embeddings = model.encode(verbetes, convert_to_numpy=True)\n",
    "embeddings = np.asarray(embeddings, dtype=np.float32)\n",
    "faiss.normalize_L2(embeddings)\n",
    "\n",
    "dimension = embeddings.shape[1]\n",
    "index = faiss.IndexFlatIP(dimension)\n",
    "index.add(embeddings)\n",
    "\n",
    "faiss.write_index(index, \"sumulas_index.faiss\")"
   ]
  },
  {
   "cell_type": "markdown",
   "id": "2aea44c1",
   "metadata": {},
   "source": [
    "## Pré-processamento e funções utilitárias\n",
    "\n",
    "Funções para normalizar e limpar texto jurídico (`preprocessar_texto_juridico`), gerar embeddings localmente (`gerar_embedding_local`) e realizar consultas semânticas (`buscar_sumulas`)."
   ]
  },
  {
   "cell_type": "code",
   "execution_count": 5,
   "id": "b31f5bb2",
   "metadata": {},
   "outputs": [],
   "source": [
    "def preprocessar_texto_juridico(texto):\n",
    "    if not texto:\n",
    "        return ''\n",
    "    \n",
    "    texto = texto.lower()\n",
    "    texto = re.sub(r'\\d{7}-\\d{2}\\.\\d{4}\\.\\d{1}\\.\\d{2}\\.\\d{4}', '', texto)\n",
    "    texto = re.sub(r'\\b(art\\.|artigo)\\s*\\d+', 'artigo', texto)\n",
    "    texto = re.sub(r'\\b(inc\\.|inciso)\\s*[ivxlcdm]+', 'inciso', texto)\n",
    "    texto = re.sub(r'\\b(par\\.|parágrafo)\\s*\\d+', 'parágrafo', texto)\n",
    "    texto = re.sub(r'\\bcpc/?\\d{4}\\b', 'código processo civil', texto)\n",
    "    texto = re.sub(r'\\bcc/?\\d{4}\\b', 'código civil', texto)\n",
    "    texto = re.sub(r'\\bctn/?\\d{4}\\b', 'código tributário nacional', texto)\n",
    "    texto = re.sub(r'[^\\w\\s]', ' ', texto)\n",
    "    texto = re.sub(r'\\s+', ' ', texto)\n",
    "\n",
    "    return texto.strip()"
   ]
  },
  {
   "cell_type": "code",
   "execution_count": 6,
   "id": "9b3d5db9",
   "metadata": {},
   "outputs": [],
   "source": [
    "def gerar_embedding_local(texto):\n",
    "    emb = model.encode(texto, convert_to_numpy=True)\n",
    "    return np.array(emb, dtype=np.float32)"
   ]
  },
  {
   "cell_type": "code",
   "execution_count": 7,
   "id": "61af81b4",
   "metadata": {},
   "outputs": [],
   "source": [
    "def buscar_sumulas(ementa, k=3, threshold=0.6):\n",
    "    ementa_proc = preprocessar_texto_juridico(ementa)\n",
    "    emb_ementa = gerar_embedding_local(ementa_proc)\n",
    "    emb_ementa = emb_ementa.reshape(1, -1).astype(np.float32)\n",
    "    \n",
    "    faiss.normalize_L2(emb_ementa)\n",
    "    D, I = index.search(emb_ementa, k)\n",
    "    \n",
    "    resultados = []\n",
    "    for sim, idx in zip(D[0], I[0]):\n",
    "        if sim < threshold:\n",
    "            continue\n",
    "        verbete_original = sumulas[idx].get('verbete', '')\n",
    "        resultados.append({\n",
    "            'numero': sumulas[idx]['numero'],\n",
    "            'verbete': verbete_original,\n",
    "            'similaridade': float(sim)\n",
    "        })\n",
    "    return resultados"
   ]
  },
  {
   "cell_type": "code",
   "execution_count": null,
   "id": "a60a7b41",
   "metadata": {},
   "outputs": [
    {
     "name": "stdout",
     "output_type": "stream",
     "text": [
      "1. Súmula 676 — sim=0.8365\n",
      "DIREITO PROCESSUAL PENAL - PRISÃO\n",
      "Em razão da Lei n. 13.964/2019, não é mais possível ao juiz, de ofício, decretar ou converter prisão em flagrante em prisão preventiva. (TERCEIRA SEÇÃO, julgado em 11/12/2024, DJe de 17/12/2024)\n",
      "\n",
      "2. Súmula 267 — sim=0.7940\n",
      "DIREITO PROCESSUAL PENAL - PRISÃO\n",
      "A interposição de recurso, sem efeito suspensivo, contra decisão condenatória não obsta a expedição de mandado de prisão.\n",
      "(TERCEIRA SEÇÃO, julgado em 22/05/2002, DJ 29/05/2002, p. 135)\n",
      "\n",
      "3. Súmula 21 — sim=0.7865\n",
      "DIREITO PROCESSUAL PENAL - CONSTRANGIMENTO ILEGAL\n",
      "Pronunciado o réu, fica superada a alegação do constrangimento ilegal da prisão por excesso de prazo na instrução.\n",
      "(TERCEIRA SEÇÃO, julgado em 06/12/1990, DJ 11/12/1990, p. 14873)\n",
      "\n"
     ]
    }
   ],
   "source": [
    "ementa_exemplo = \"\"\"\n",
    "\"\"\"\n",
    "\n",
    "resposta = buscar_sumulas(ementa_exemplo)\n",
    "if not resposta:\n",
    "    print(\"Nenhum resultado acima do threshold 0.6\")\n",
    "else:\n",
    "    for i, r in enumerate(resposta, 1):\n",
    "        print(f\"{i}. Súmula {r['numero']} — sim={r['similaridade']:.4f}\")\n",
    "        print(f\"{r['verbete']}\")\n",
    "        print()"
   ]
  }
 ],
 "metadata": {
  "kernelspec": {
   "display_name": "Python (myenv)",
   "language": "python",
   "name": "myenv"
  },
  "language_info": {
   "codemirror_mode": {
    "name": "ipython",
    "version": 3
   },
   "file_extension": ".py",
   "mimetype": "text/x-python",
   "name": "python",
   "nbconvert_exporter": "python",
   "pygments_lexer": "ipython3",
   "version": "3.12.3"
  }
 },
 "nbformat": 4,
 "nbformat_minor": 5
}
