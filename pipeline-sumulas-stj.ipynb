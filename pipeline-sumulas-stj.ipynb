{
 "cells": [
  {
   "cell_type": "markdown",
   "id": "568c981e",
   "metadata": {},
   "source": [
    "# Pipeline de Súmulas do STJ\n",
    "\n",
    "Notebook para extrair súmulas do site do STJ, pré-processar os verbetes, gerar embeddings com SentenceTransformers e indexá-los com FAISS para busca semântica.\n",
    "\n",
    "Este notebook contém passos para coleta (web scraping), preparação de dados, geração de embeddings, construção do índice e exemplos de consulta."
   ]
  },
  {
   "cell_type": "markdown",
   "id": "404d1053",
   "metadata": {},
   "source": [
    "## Coleta (web scraping)\n",
    "\n",
    "Este bloco utiliza Selenium para navegar no site do STJ e coletar número e verbete de cada súmula. Os resultados são salvos em `sumulas_metadata.json`."
   ]
  },
  {
   "cell_type": "code",
   "execution_count": 24,
   "id": "aede2174",
   "metadata": {},
   "outputs": [],
   "source": [
    "import json\n",
    "import re\n",
    "import numpy as np\n",
    "import faiss\n",
    "from sentence_transformers import SentenceTransformer\n",
    "from selenium import webdriver\n",
    "from selenium.webdriver.chrome.service import Service\n",
    "from selenium.webdriver.chrome.options import Options\n",
    "from selenium.webdriver.common.by import By\n",
    "from selenium.webdriver.support.ui import WebDriverWait\n",
    "from selenium.webdriver.support import expected_conditions as EC\n",
    "\n",
    "model = SentenceTransformer('sentence-transformers/paraphrase-multilingual-MiniLM-L12-v2')"
   ]
  },
  {
   "cell_type": "code",
   "execution_count": 25,
   "id": "c1f0a8c7",
   "metadata": {},
   "outputs": [],
   "source": [
    "options = Options()\n",
    "options.add_argument('--headless')\n",
    "options.add_argument('--no-sandbox')\n",
    "options.add_argument('--disable-dev-shm-usage')\n",
    "service = Service(\"/usr/local/bin/chromedriver\")\n",
    "driver = webdriver.Chrome(service=service, options=options)"
   ]
  },
  {
   "cell_type": "code",
   "execution_count": 26,
   "id": "c629e155",
   "metadata": {},
   "outputs": [],
   "source": [
    "driver.get(\"https://scon.stj.jus.br/SCON/sumstj/toc.jsp?documentosSelecionadosParaPDF=&numDocsPagina=100&tipo_visualizacao=&data=&p=true&b=SUMU&thesaurus=JURIDICO&i=1&l=100&ordenacao=-%40NUM&operador=e\")\n",
    "\n",
    "sumulas = []\n",
    "while True:\n",
    "    for grid in driver.find_elements(By.CLASS_NAME, \"gridSumula\"):\n",
    "        try:\n",
    "            num = grid.find_element(By.CLASS_NAME, \"numeroSumula\").text\n",
    "            verbete = grid.find_element(By.CLASS_NAME, \"blocoVerbete\").text\n",
    "            sumulas.append({\"numero\": num, \"verbete\": verbete})\n",
    "        except Exception:\n",
    "            continue\n",
    "    try:\n",
    "        botao_proxima = driver.find_element(By.CLASS_NAME, \"iconeProximaPagina\")\n",
    "        botao_proxima.click()\n",
    "        WebDriverWait(driver, 10).until(EC.staleness_of(grid))\n",
    "    except Exception:\n",
    "        break\n",
    "\n",
    "with open(\"sumulas_metadata.json\", \"w\", encoding=\"utf-8\") as f:\n",
    "    json.dump(sumulas, f, ensure_ascii=False, indent=2)\n"
   ]
  },
  {
   "cell_type": "markdown",
   "id": "c38f80bb",
   "metadata": {},
   "source": [
    "## Geração de embeddings e indexação\n",
    "\n",
    "Aqui carregamos os verbetes extraídos, geramos embeddings usando `sentence-transformers` e criamos um índice FAISS (IndexFlatIP). Os vetores são normalizados com L2 antes de gravar o índice."
   ]
  },
  {
   "cell_type": "code",
   "execution_count": null,
   "id": "9382fe30",
   "metadata": {},
   "outputs": [],
   "source": [
    "with open(\"sumulas_metadata.json\", \"r\", encoding=\"utf-8\") as f:\n",
    "    sumulas = json.load(f)\n",
    "\n",
    "verbetes = [s[\"verbete\"] for s in sumulas]\n",
    "embeddings = model.encode(verbetes, convert_to_numpy=True)\n",
    "embeddings = np.asarray(embeddings, dtype=np.float32)\n",
    "faiss.normalize_L2(embeddings)\n",
    "\n",
    "dimension = embeddings.shape[1]\n",
    "index = faiss.IndexFlatIP(dimension)\n",
    "index.add(embeddings)\n",
    "\n",
    "faiss.write_index(index, \"sumulas_index.faiss\")"
   ]
  }
 ],
 "metadata": {
  "kernelspec": {
   "display_name": "Python (myenv)",
   "language": "python",
   "name": "myenv"
  },
  "language_info": {
   "codemirror_mode": {
    "name": "ipython",
    "version": 3
   },
   "file_extension": ".py",
   "mimetype": "text/x-python",
   "name": "python",
   "nbconvert_exporter": "python",
   "pygments_lexer": "ipython3",
   "version": "3.12.3"
  }
 },
 "nbformat": 4,
 "nbformat_minor": 5
}
